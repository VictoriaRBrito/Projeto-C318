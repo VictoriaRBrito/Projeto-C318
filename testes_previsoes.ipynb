{
 "cells": [
  {
   "cell_type": "code",
   "execution_count": 2,
   "id": "22d5d639",
   "metadata": {},
   "outputs": [],
   "source": [
    "import yfinance as yf"
   ]
  },
  {
   "cell_type": "code",
   "execution_count": 33,
   "id": "e7d6a0f2",
   "metadata": {},
   "outputs": [],
   "source": [
    "previsao_tri22 = ['MRFG3','MGLU3','SBSP3','RAIL3','HYPE3','RENT3','GOAU4','USIM5','QUAL3','VBBR3','B3SA3','FLRY3','BBSE3']\n",
    "\n",
    "previsao_1tri = ['RAIL3','HYPE3','BRFS3','ENGI11','COGN3','ENEV3','UGPA3','EMBR3','VBBR3']\n",
    "\n",
    "previsao_2tri = ['ITSA4','PRIO3','CVCB3','CRFB3','PETR4','MULT3','BHIA3','SUZB3','CSNA3','GOAU4','BRFS3','QUAL3','EMBR3','VIVT3']\n",
    "\n",
    "previsao_3tri = ['CIEL3','CYRE3','HYPE3','ENGI11','LREN3','VBBR3','RADL3','TIMS3']"
   ]
  },
  {
   "cell_type": "code",
   "execution_count": 14,
   "id": "b32ea6a8",
   "metadata": {},
   "outputs": [],
   "source": [
    "previsoes = {\"tri22\": previsao_tri22, \"tri1\": previsao_1tri,\"tri2\": previsao_2tri, \"tri3\": previsao_3tri}\n"
   ]
  },
  {
   "cell_type": "markdown",
   "id": "1946bfb5",
   "metadata": {},
   "source": [
    "## Trimestre de 06 a 09 de 2023"
   ]
  },
  {
   "cell_type": "code",
   "execution_count": 25,
   "id": "836f9050",
   "metadata": {},
   "outputs": [
    {
     "name": "stdout",
     "output_type": "stream",
     "text": [
      "[*********************100%%**********************]  1 of 1 completed\n",
      "[*********************100%%**********************]  1 of 1 completed\n",
      "[*********************100%%**********************]  1 of 1 completed\n",
      "[*********************100%%**********************]  1 of 1 completed\n",
      "[*********************100%%**********************]  1 of 1 completed\n",
      "[*********************100%%**********************]  1 of 1 completed\n",
      "[*********************100%%**********************]  1 of 1 completed\n",
      "[*********************100%%**********************]  1 of 1 completed\n",
      "[*********************100%%**********************]  1 of 1 completed\n",
      "[*********************100%%**********************]  1 of 1 completed\n",
      "[*********************100%%**********************]  1 of 1 completed\n",
      "[*********************100%%**********************]  1 of 1 completed\n",
      "[*********************100%%**********************]  1 of 1 completed\n",
      "[*********************100%%**********************]  1 of 1 completed\n",
      "[*********************100%%**********************]  1 of 1 completed\n",
      "[*********************100%%**********************]  1 of 1 completed\n"
     ]
    }
   ],
   "source": [
    "carteira_inicial = 0\n",
    "carteira_final = 0\n",
    "cotacao_inicio = 0\n",
    "cotacao_final = 0\n",
    "\n",
    "for empresa in previsao_3tri:\n",
    "    cotacao_inicio = yf.download(f'{empresa}.SA', start =\"2023-06-30\", end= \"2023-07-01\")  # yyyy-mm-dd\n",
    "    carteira_inicial += cotacao_inicio.iloc[0]['Adj Close']\n",
    "    cotacao_final = yf.download(f'{empresa}.SA', start =\"2023-09-29\", end= \"2023-09-30\")  # yyyy-mm-dd\n",
    "    carteira_final += cotacao_final.iloc[0]['Adj Close']\n",
    "    \n",
    "rendimento_3tri = (carteira_final/carteira_inicial) - 1"
   ]
  },
  {
   "cell_type": "markdown",
   "id": "215fd42b",
   "metadata": {},
   "source": [
    "## Trimestre de 03 a 06 de 2023"
   ]
  },
  {
   "cell_type": "code",
   "execution_count": 27,
   "id": "d53a9a95",
   "metadata": {},
   "outputs": [
    {
     "name": "stdout",
     "output_type": "stream",
     "text": [
      "[*********************100%%**********************]  1 of 1 completed\n",
      "[*********************100%%**********************]  1 of 1 completed\n",
      "[*********************100%%**********************]  1 of 1 completed\n",
      "[*********************100%%**********************]  1 of 1 completed\n",
      "[*********************100%%**********************]  1 of 1 completed\n",
      "[*********************100%%**********************]  1 of 1 completed\n",
      "[*********************100%%**********************]  1 of 1 completed\n",
      "[*********************100%%**********************]  1 of 1 completed\n",
      "[*********************100%%**********************]  1 of 1 completed\n",
      "[*********************100%%**********************]  1 of 1 completed\n",
      "[*********************100%%**********************]  1 of 1 completed\n",
      "[*********************100%%**********************]  1 of 1 completed\n",
      "[*********************100%%**********************]  1 of 1 completed\n",
      "[*********************100%%**********************]  1 of 1 completed\n",
      "[*********************100%%**********************]  1 of 1 completed\n",
      "[*********************100%%**********************]  1 of 1 completed\n",
      "[*********************100%%**********************]  1 of 1 completed\n",
      "[*********************100%%**********************]  1 of 1 completed\n",
      "[*********************100%%**********************]  1 of 1 completed\n",
      "[*********************100%%**********************]  1 of 1 completed\n",
      "[*********************100%%**********************]  1 of 1 completed\n",
      "[*********************100%%**********************]  1 of 1 completed\n",
      "[*********************100%%**********************]  1 of 1 completed\n",
      "[*********************100%%**********************]  1 of 1 completed\n",
      "[*********************100%%**********************]  1 of 1 completed\n",
      "[*********************100%%**********************]  1 of 1 completed\n",
      "[*********************100%%**********************]  1 of 1 completed\n",
      "[*********************100%%**********************]  1 of 1 completed\n"
     ]
    }
   ],
   "source": [
    "carteira_inicial = 0\n",
    "carteira_final = 0\n",
    "cotacao_inicio = 0\n",
    "cotacao_final = 0\n",
    "\n",
    "for empresa in previsao_2tri:\n",
    "    cotacao_inicio = yf.download(f'{empresa}.SA', start =\"2023-03-29\", end= \"2023-03-30\")  # yyyy-mm-dd\n",
    "    carteira_inicial += cotacao_inicio.iloc[0]['Adj Close']\n",
    "    cotacao_final = yf.download(f'{empresa}.SA', start =\"2023-06-30\", end= \"2023-07-01\")  # yyyy-mm-dd\n",
    "    carteira_final += cotacao_final.iloc[0]['Adj Close']\n",
    "    \n",
    "rendimento_2tri = (carteira_final/carteira_inicial) - 1"
   ]
  },
  {
   "cell_type": "markdown",
   "id": "f2f81cb1",
   "metadata": {},
   "source": [
    "## Trimestre de 01 a 03 de 2023"
   ]
  },
  {
   "cell_type": "code",
   "execution_count": 34,
   "id": "f72dcce1",
   "metadata": {},
   "outputs": [
    {
     "name": "stdout",
     "output_type": "stream",
     "text": [
      "[*********************100%%**********************]  1 of 1 completed\n",
      "[*********************100%%**********************]  1 of 1 completed\n",
      "[*********************100%%**********************]  1 of 1 completed\n",
      "[*********************100%%**********************]  1 of 1 completed\n",
      "[*********************100%%**********************]  1 of 1 completed\n",
      "[*********************100%%**********************]  1 of 1 completed\n",
      "[*********************100%%**********************]  1 of 1 completed\n",
      "[*********************100%%**********************]  1 of 1 completed\n",
      "[*********************100%%**********************]  1 of 1 completed\n",
      "[*********************100%%**********************]  1 of 1 completed\n",
      "[*********************100%%**********************]  1 of 1 completed\n",
      "[*********************100%%**********************]  1 of 1 completed\n",
      "[*********************100%%**********************]  1 of 1 completed\n",
      "[*********************100%%**********************]  1 of 1 completed\n",
      "[*********************100%%**********************]  1 of 1 completed\n",
      "[*********************100%%**********************]  1 of 1 completed\n",
      "[*********************100%%**********************]  1 of 1 completed\n",
      "[*********************100%%**********************]  1 of 1 completed\n"
     ]
    }
   ],
   "source": [
    "carteira_inicial = 0\n",
    "carteira_final = 0\n",
    "cotacao_inicio = 0\n",
    "cotacao_final = 0\n",
    "\n",
    "for empresa in previsao_1tri:\n",
    "    cotacao_inicio = yf.download(f'{empresa}.SA', start =\"2023-01-02\", end= \"2023-01-03\")  # yyyy-mm-dd\n",
    "    carteira_inicial += cotacao_inicio.iloc[0]['Adj Close']\n",
    "    cotacao_final = yf.download(f'{empresa}.SA', start =\"2023-03-29\", end= \"2023-03-30\")  # yyyy-mm-dd\n",
    "    carteira_final += cotacao_final.iloc[0]['Adj Close']\n",
    "    \n",
    "rendimento_1tri = (carteira_final/carteira_inicial) - 1"
   ]
  },
  {
   "cell_type": "markdown",
   "id": "82ad540c",
   "metadata": {},
   "source": [
    "## Trimestre de 09 a 12 de 2022"
   ]
  },
  {
   "cell_type": "code",
   "execution_count": 37,
   "id": "fa4f649a",
   "metadata": {},
   "outputs": [
    {
     "name": "stdout",
     "output_type": "stream",
     "text": [
      "[*********************100%%**********************]  1 of 1 completed\n",
      "[*********************100%%**********************]  1 of 1 completed\n",
      "[*********************100%%**********************]  1 of 1 completed\n",
      "[*********************100%%**********************]  1 of 1 completed\n",
      "[*********************100%%**********************]  1 of 1 completed\n",
      "[*********************100%%**********************]  1 of 1 completed\n",
      "[*********************100%%**********************]  1 of 1 completed\n",
      "[*********************100%%**********************]  1 of 1 completed\n",
      "[*********************100%%**********************]  1 of 1 completed\n",
      "[*********************100%%**********************]  1 of 1 completed\n",
      "[*********************100%%**********************]  1 of 1 completed\n",
      "[*********************100%%**********************]  1 of 1 completed\n",
      "[*********************100%%**********************]  1 of 1 completed\n",
      "[*********************100%%**********************]  1 of 1 completed\n",
      "[*********************100%%**********************]  1 of 1 completed\n",
      "[*********************100%%**********************]  1 of 1 completed\n",
      "[*********************100%%**********************]  1 of 1 completed\n",
      "[*********************100%%**********************]  1 of 1 completed\n",
      "[*********************100%%**********************]  1 of 1 completed\n",
      "[*********************100%%**********************]  1 of 1 completed\n",
      "[*********************100%%**********************]  1 of 1 completed\n",
      "[*********************100%%**********************]  1 of 1 completed\n",
      "[*********************100%%**********************]  1 of 1 completed\n",
      "[*********************100%%**********************]  1 of 1 completed\n",
      "[*********************100%%**********************]  1 of 1 completed\n",
      "[*********************100%%**********************]  1 of 1 completed\n"
     ]
    }
   ],
   "source": [
    "carteira_inicial = 0\n",
    "carteira_final = 0\n",
    "cotacao_inicio = 0\n",
    "cotacao_final = 0\n",
    "\n",
    "for empresa in previsao_tri22:\n",
    "    cotacao_inicio = yf.download(f'{empresa}.SA', start =\"2022-09-29\", end= \"2022-09-30\")  # yyyy-mm-dd\n",
    "    carteira_inicial += cotacao_inicio.iloc[0]['Adj Close']\n",
    "    cotacao_final = yf.download(f'{empresa}.SA', start =\"2022-12-29\", end= \"2022-12-30\")  # yyyy-mm-dd\n",
    "    carteira_final += cotacao_final.iloc[0]['Adj Close']\n",
    "    \n",
    "rendimento_tri22 = (carteira_final/carteira_inicial) - 1"
   ]
  },
  {
   "cell_type": "code",
   "execution_count": 39,
   "id": "8a2d22d3",
   "metadata": {},
   "outputs": [
    {
     "name": "stdout",
     "output_type": "stream",
     "text": [
      "1.4257285147888876\n"
     ]
    }
   ],
   "source": [
    "import statistics\n",
    "\n",
    "# Calculate average values\n",
    "media_rendimento = statistics.mean([rendimento_3tri, rendimento_2tri, rendimento_1tri, rendimento_tri22])\n",
    "print(media_rendimento*100)"
   ]
  }
 ],
 "metadata": {
  "kernelspec": {
   "display_name": "Python 3 (ipykernel)",
   "language": "python",
   "name": "python3"
  },
  "language_info": {
   "codemirror_mode": {
    "name": "ipython",
    "version": 3
   },
   "file_extension": ".py",
   "mimetype": "text/x-python",
   "name": "python",
   "nbconvert_exporter": "python",
   "pygments_lexer": "ipython3",
   "version": "3.9.7"
  }
 },
 "nbformat": 4,
 "nbformat_minor": 5
}
